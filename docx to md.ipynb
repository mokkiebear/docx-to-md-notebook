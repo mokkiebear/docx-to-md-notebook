{
 "cells": [
  {
   "cell_type": "code",
   "execution_count": null,
   "id": "0a215857",
   "metadata": {},
   "outputs": [],
   "source": [
    "import os\n",
    "import codecs\n",
    "from pathlib import Path\n",
    "import mammoth"
   ]
  },
  {
   "cell_type": "code",
   "execution_count": null,
   "id": "3f237373",
   "metadata": {},
   "outputs": [],
   "source": [
    "# enter the path to the directory with .docx files\n",
    "work_dir = './OneDrive/Рабочий стол/2019'"
   ]
  },
  {
   "cell_type": "code",
   "execution_count": null,
   "id": "f917cc43",
   "metadata": {},
   "outputs": [],
   "source": [
    "# display all files\n",
    "for root, dirs, files in os.walk(work_dir):\n",
    "    path = root.split(os.sep)\n",
    "    print((len(path) - 1) * '---', os.path.basename(root))\n",
    "    \n",
    "    for file in files:\n",
    "        print(len(path) * '---', file)"
   ]
  },
  {
   "cell_type": "code",
   "execution_count": null,
   "id": "c93a4ecd",
   "metadata": {},
   "outputs": [],
   "source": [
    "# convert .docx files to .md files\n",
    "for root, dirs, files in os.walk(work_dir):\n",
    "    for file in files:\n",
    "        file_name = Path(file).stem\n",
    "        path_to_file = os.path.join(root, file)\n",
    "        \n",
    "        if file.endswith('.docx'):\n",
    "            with open(path_to_file, 'rb') as docx_file:\n",
    "                result = mammoth.convert_to_markdown(docx_file)\n",
    "\n",
    "            with codecs.open(root + '/' + file_name + '.md', 'w', 'utf-8') as md_file:\n",
    "                md_file.write(result.value)\n",
    "        else:\n",
    "            print('It\\'s not .docx:', file)"
   ]
  },
  {
   "cell_type": "code",
   "execution_count": null,
   "id": "49ceb864",
   "metadata": {},
   "outputs": [],
   "source": [
    "# remove .docx after the prev step\n",
    "for root, dirs, files in os.walk(work_dir):\n",
    "    for file in files:\n",
    "        file_name = Path(file).stem\n",
    "        path_to_file = os.path.join(root, file)\n",
    "        \n",
    "        if file.endswith('.docx'):\n",
    "            os.remove(path_to_file)\n",
    "            print(file, ' - removed.')\n",
    "        else:\n",
    "            print('It\\'s not .docx:', file)"
   ]
  },
  {
   "cell_type": "code",
   "execution_count": null,
   "id": "53eb2c84",
   "metadata": {},
   "outputs": [],
   "source": []
  }
 ],
 "metadata": {
  "kernelspec": {
   "display_name": "Python 3 (ipykernel)",
   "language": "python",
   "name": "python3"
  },
  "language_info": {
   "codemirror_mode": {
    "name": "ipython",
    "version": 3
   },
   "file_extension": ".py",
   "mimetype": "text/x-python",
   "name": "python",
   "nbconvert_exporter": "python",
   "pygments_lexer": "ipython3",
   "version": "3.9.7"
  }
 },
 "nbformat": 4,
 "nbformat_minor": 5
}
